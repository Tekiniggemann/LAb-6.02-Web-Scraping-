{
 "cells": [
  {
   "cell_type": "markdown",
   "id": "c391c3f9",
   "metadata": {},
   "source": [
    "# LAB 6.01 Web Scraping Single Page"
   ]
  },
  {
   "cell_type": "code",
   "execution_count": 1,
   "id": "6db72331",
   "metadata": {},
   "outputs": [],
   "source": [
    "from bs4 import BeautifulSoup\n",
    "import requests\n",
    "import pandas as pd"
   ]
  },
  {
   "cell_type": "code",
   "execution_count": 2,
   "id": "0b0fe47f",
   "metadata": {},
   "outputs": [],
   "source": [
    "url = \"http://www.popvortex.com/music/netherlands/top-songs.php\""
   ]
  },
  {
   "cell_type": "code",
   "execution_count": 3,
   "id": "21f58a9d",
   "metadata": {},
   "outputs": [
    {
     "data": {
      "text/plain": [
       "200"
      ]
     },
     "execution_count": 3,
     "metadata": {},
     "output_type": "execute_result"
    }
   ],
   "source": [
    "response = requests.get(url)\n",
    "response.status_code"
   ]
  },
  {
   "cell_type": "code",
   "execution_count": 4,
   "id": "4e78f98d",
   "metadata": {},
   "outputs": [],
   "source": [
    "soup = BeautifulSoup(response.content, \"html.parser\")"
   ]
  },
  {
   "cell_type": "code",
   "execution_count": 5,
   "id": "6c91fd9a",
   "metadata": {},
   "outputs": [
    {
     "data": {
      "text/plain": [
       "[<cite class=\"title\">Cold Heart (PNAU Remix)</cite>]"
      ]
     },
     "execution_count": 5,
     "metadata": {},
     "output_type": "execute_result"
    }
   ],
   "source": [
    "soup.select(\"#chart-position-1 > div.chart-content.col-xs-12.col-sm-8 > p > cite\")"
   ]
  },
  {
   "cell_type": "code",
   "execution_count": 6,
   "id": "4bae457a",
   "metadata": {},
   "outputs": [
    {
     "data": {
      "text/plain": [
       "'Easy On Me'"
      ]
     },
     "execution_count": 6,
     "metadata": {},
     "output_type": "execute_result"
    }
   ],
   "source": [
    "soup.select(\"p > cite\")[1].get_text()"
   ]
  },
  {
   "cell_type": "code",
   "execution_count": 7,
   "id": "ef237926",
   "metadata": {},
   "outputs": [
    {
     "name": "stdout",
     "output_type": "stream",
     "text": [
      "['Cold Heart (PNAU Remix)', 'Easy On Me', 'Coming Home With Santa', 'Christmas On My Doorstep', 'Do It To It (feat. Cherish)', 'Dat Heb Jij Gedaan', 'To Be Loved', 'Only You', 'Bad Habits', 'Schiddi Widdi Witt', 'Shivers', 'Thunder', 'Moth To A Flame', 'The Motto', 'Hold On', 'Alle Remmen Los', 'Ik Ga Zwemmen', 'Pepas', 'Misschien Huil Ik Niet Hard Genoeg', 'Ons Moeder Zeej Nog', 'Amsterdam', 'Baby Lekker Ding', 'Cover Me In Sunshine', 'Everybody Needs Somebody To Love', 'Mañana', 'Overpass Graffiti', 'Ja Wie Niet Springt (Die Moet Betalen)', 'Ghost', 'All Night Parking (with Erroll Garner) Interlude', 'The Haves', 'Calling', 'All I Want For Christmas Is You', \"It's Beginning To Look a Lot Like Christmas\", \"Non Stop Vol D'r Op\", 'Rise Up', \"Tot Over M'n Oren\", 'Nooit Meer Alcohol', 'Talk About', 'My Universe', 'Where Are You Now', 'love nwantiti (feat. Axel & DJ Yo) [Remix]', 'Time To Say Goodbye (Con te partirò)', 'Hard To Say Goodbye', 'Better Days', 'Dopamine (feat. Eyelar)', 'I Drink Wine', 'Ooh Ahh (My Life Be Like) [feat. Tobymac]', 'Love Tonight (David Guetta Remix)', 'Soundgasm', \"Don't You Want Me (Purple Disco Machine Remix)\", 'Can I Get It', 'Hurricane', 'Alcoholist', 'Strangers By Nature', 'Love Tonight (David Guetta Remix Edit)', 'Streken Van Een Duivel (feat. Frenna)', 'Samen (feat. Yade Lauren)', 'In De Nacht', 'Don’t Cry Me A River', 'Mijn Schat Mijn Vrouw', 'All That You Are', 'Enemy (From the series \"Arcane League of Legends\")', 'Words', 'Steal My Soul', \"Summer Of '71\", 'Dis, quand reviendras-tu? (Arr. Gérard Daguerre)', 'Sterker dan wij twee', 'That Girl', 'Jij Bent Mijn Leven', 'Lieve lach', 'After All This Time', 'Yerevan II', \"Don't Worry What the Experts Say\", 'Daribbaba', 'Choral', 'Rewild Me', 'De wind draait', 'Nooit meer droge ogen', 'God bestaat niet', 'Some Things Just Come Undone', 'Met Alles Wat Ik Heb', 'Over the Fields', 'Vincent', 'Mary Did You Know (Acapella)', 'La fille du régiment, Act I: \"La la la .chacum le sait, chacun le dit\"', 'Christmas Medley', 'Christmas (Baby Please Come Home) (Karaoke Instrumental Track) [In the Style of Mariah Carey]', 'Swipe Up', 'Glory Box (Rock Version)', 'Specularisatie', 'O Come, O Come, Emmanuel', 'Never Forget You', 'feel like s**t', 'Owo', 'The Fantasy Life of Poetry & Crime', 'Christmas Time', 'Soft Skin and Silence', 'Jingle Bells (feat. The Puppini Sisters)', 'erase me (feat. Jacob Collier)', 'Squid']\n"
     ]
    }
   ],
   "source": [
    "song = []\n",
    "\n",
    "num_iter = len(soup.select(\"p > cite\"))\n",
    "\n",
    "for i in range(num_iter):\n",
    "    song.append(soup.select(\"p > cite\")[i].get_text())\n",
    "\n",
    "print(song)\n",
    "\n",
    "top100_song = pd.DataFrame({\"song\":song})"
   ]
  },
  {
   "cell_type": "code",
   "execution_count": 8,
   "id": "f77c8f5b",
   "metadata": {},
   "outputs": [
    {
     "data": {
      "text/html": [
       "<div>\n",
       "<style scoped>\n",
       "    .dataframe tbody tr th:only-of-type {\n",
       "        vertical-align: middle;\n",
       "    }\n",
       "\n",
       "    .dataframe tbody tr th {\n",
       "        vertical-align: top;\n",
       "    }\n",
       "\n",
       "    .dataframe thead th {\n",
       "        text-align: right;\n",
       "    }\n",
       "</style>\n",
       "<table border=\"1\" class=\"dataframe\">\n",
       "  <thead>\n",
       "    <tr style=\"text-align: right;\">\n",
       "      <th></th>\n",
       "      <th>song</th>\n",
       "    </tr>\n",
       "  </thead>\n",
       "  <tbody>\n",
       "    <tr>\n",
       "      <th>0</th>\n",
       "      <td>Cold Heart (PNAU Remix)</td>\n",
       "    </tr>\n",
       "    <tr>\n",
       "      <th>1</th>\n",
       "      <td>Easy On Me</td>\n",
       "    </tr>\n",
       "    <tr>\n",
       "      <th>2</th>\n",
       "      <td>Coming Home With Santa</td>\n",
       "    </tr>\n",
       "    <tr>\n",
       "      <th>3</th>\n",
       "      <td>Christmas On My Doorstep</td>\n",
       "    </tr>\n",
       "    <tr>\n",
       "      <th>4</th>\n",
       "      <td>Do It To It (feat. Cherish)</td>\n",
       "    </tr>\n",
       "  </tbody>\n",
       "</table>\n",
       "</div>"
      ],
      "text/plain": [
       "                          song\n",
       "0      Cold Heart (PNAU Remix)\n",
       "1                   Easy On Me\n",
       "2       Coming Home With Santa\n",
       "3     Christmas On My Doorstep\n",
       "4  Do It To It (feat. Cherish)"
      ]
     },
     "execution_count": 8,
     "metadata": {},
     "output_type": "execute_result"
    }
   ],
   "source": [
    "top100_song.head()"
   ]
  },
  {
   "cell_type": "code",
   "execution_count": 9,
   "id": "9448df3a",
   "metadata": {},
   "outputs": [
    {
     "data": {
      "text/plain": [
       "[<em class=\"artist\">Elton John &amp; Dua Lipa</em>]"
      ]
     },
     "execution_count": 9,
     "metadata": {},
     "output_type": "execute_result"
    }
   ],
   "source": [
    "soup.select(\"#chart-position-1 > div.chart-content.col-xs-12.col-sm-8 > p > em\")"
   ]
  },
  {
   "cell_type": "code",
   "execution_count": 10,
   "id": "5f70d384",
   "metadata": {
    "scrolled": true
   },
   "outputs": [
    {
     "data": {
      "text/plain": [
       "[<em class=\"artist\">Elton John &amp; Dua Lipa</em>,\n",
       " <em class=\"artist\">Adele</em>,\n",
       " <em class=\"artist\">OG3NE</em>,\n",
       " <em class=\"artist\">OG3NE</em>,\n",
       " <em class=\"artist\">Acraze</em>,\n",
       " <em class=\"artist\">MEAU</em>,\n",
       " <em class=\"artist\">Adele</em>,\n",
       " <em class=\"artist\">Rene Le Blanc</em>,\n",
       " <em class=\"artist\">Ed Sheeran</em>,\n",
       " <em class=\"artist\">Gino Graus</em>,\n",
       " <em class=\"artist\">Ed Sheeran</em>,\n",
       " <em class=\"artist\">Gabry Ponte, LUM!X &amp; Prezioso</em>,\n",
       " <em class=\"artist\">Swedish House Mafia &amp; The Weeknd</em>,\n",
       " <em class=\"artist\">Tiësto &amp; Ava Max</em>,\n",
       " <em class=\"artist\">Adele</em>,\n",
       " <em class=\"artist\">Helemaal Hollands</em>,\n",
       " <em class=\"artist\">Mart Hoogkamer</em>,\n",
       " <em class=\"artist\">Farruko</em>,\n",
       " <em class=\"artist\">Bolland &amp; Bolland</em>,\n",
       " <em class=\"artist\">Jan Biggel</em>,\n",
       " <em class=\"artist\">FLEMMING</em>,\n",
       " <em class=\"artist\">Jeffrey Heesen</em>,\n",
       " <em class=\"artist\">P!nk &amp; Willow Sage Hart</em>,\n",
       " <em class=\"artist\">Danny Froger &amp; Wesley Klein</em>,\n",
       " <em class=\"artist\">Evert Van Huygevoort</em>,\n",
       " <em class=\"artist\">Ed Sheeran</em>,\n",
       " <em class=\"artist\">Gebroeders Ko</em>,\n",
       " <em class=\"artist\">Justin Bieber</em>,\n",
       " <em class=\"artist\">Adele</em>,\n",
       " <em class=\"artist\">Eddie Vedder</em>,\n",
       " <em class=\"artist\">Elephant</em>,\n",
       " <em class=\"artist\">Mariah Carey</em>,\n",
       " <em class=\"artist\">Michael Bublé</em>,\n",
       " <em class=\"artist\">Snollebollekes</em>,\n",
       " <em class=\"artist\">Andra Day</em>,\n",
       " <em class=\"artist\">Bob Offenberg</em>,\n",
       " <em class=\"artist\">Lawineboys</em>,\n",
       " <em class=\"artist\">Rain Radio &amp; DJ Craig Gorman</em>,\n",
       " <em class=\"artist\">Coldplay X BTS</em>,\n",
       " <em class=\"artist\">Lost Frequencies &amp; Calum Scott</em>,\n",
       " <em class=\"artist\">CKay</em>,\n",
       " <em class=\"artist\">André Rieu, Mirusia Louwerse &amp; Johann Strauss Orchestra</em>,\n",
       " <em class=\"artist\">RONDÉ</em>,\n",
       " <em class=\"artist\">Dermot Kennedy</em>,\n",
       " <em class=\"artist\">Purple Disco Machine</em>,\n",
       " <em class=\"artist\">Adele</em>,\n",
       " <em class=\"artist\">Grits</em>,\n",
       " <em class=\"artist\">Shouse &amp; David Guetta</em>,\n",
       " <em class=\"artist\">Rema</em>,\n",
       " <em class=\"artist\">The Human League</em>,\n",
       " <em class=\"artist\">Adele</em>,\n",
       " <em class=\"artist\">Ofenbach &amp; Ella Henderson</em>,\n",
       " <em class=\"artist\">Dopebwoy</em>,\n",
       " <em class=\"artist\">Adele</em>,\n",
       " <em class=\"artist\">Shouse &amp; David Guetta</em>,\n",
       " <em class=\"artist\">Bilal Wahib</em>,\n",
       " <em class=\"artist\">Kevin</em>,\n",
       " <em class=\"artist\">Yade Lauren</em>,\n",
       " <em class=\"artist\">Nona</em>,\n",
       " <em class=\"artist\">John West &amp; Zonzo Basily</em>,\n",
       " <em class=\"artist\">Bear's Den</em>,\n",
       " <em class=\"artist\">Imagine Dragons, JID &amp; League of Legends</em>,\n",
       " <em class=\"artist\">Stefania</em>,\n",
       " <em class=\"artist\">Airbag</em>,\n",
       " <em class=\"artist\">Bolland &amp; Bolland</em>,\n",
       " <em class=\"artist\">Amsterdam Sinfonietta, Thomas Oliemans &amp; Candida Thompson</em>,\n",
       " <em class=\"artist\">De Dijk</em>,\n",
       " <em class=\"artist\">Jah Cure</em>,\n",
       " <em class=\"artist\">John West</em>,\n",
       " <em class=\"artist\">De Dijk</em>,\n",
       " <em class=\"artist\">Heather Nova</em>,\n",
       " <em class=\"artist\">Franco Feruglio, Marco Decimo, Gabriele Baffero, Mauro Loguercio &amp; Djivan Gasparyan</em>,\n",
       " <em class=\"artist\">Heather Nova</em>,\n",
       " <em class=\"artist\">Bilal Göregen</em>,\n",
       " <em class=\"artist\">Arild Andersen, Vassilis Tsabropoulos &amp; John Marshall</em>,\n",
       " <em class=\"artist\">Heather Nova</em>,\n",
       " <em class=\"artist\">De Dijk</em>,\n",
       " <em class=\"artist\">De Dijk</em>,\n",
       " <em class=\"artist\">De Dijk</em>,\n",
       " <em class=\"artist\">Heather Nova</em>,\n",
       " <em class=\"artist\">De Dijk</em>,\n",
       " <em class=\"artist\">Heather Nova</em>,\n",
       " <em class=\"artist\">Heather Nova</em>,\n",
       " <em class=\"artist\">Cimorelli</em>,\n",
       " <em class=\"artist\">Dame Joan Sutherland, Chorus of the Royal Opera House, Covent Garden, Richard Bonynge, Luciano Pavarotti, Orchestra of the Royal Opera House, Covent Garden &amp; Spiro Malas</em>,\n",
       " <em class=\"artist\">Clamavi De Profundis</em>,\n",
       " <em class=\"artist\">ProSound Karaoke Band</em>,\n",
       " <em class=\"artist\">Sleazy Stereo &amp; Matjo &amp; Morena</em>,\n",
       " <em class=\"artist\">Violet Orlandi</em>,\n",
       " <em class=\"artist\">Bernd van den Bos</em>,\n",
       " <em class=\"artist\">Cimorelli</em>,\n",
       " <em class=\"artist\">Dutchavelli</em>,\n",
       " <em class=\"artist\">Tate McRae</em>,\n",
       " <em class=\"artist\">SXTEEN &amp; Issairo</em>,\n",
       " <em class=\"artist\">Peter Doherty &amp; Frédéric Lo</em>,\n",
       " <em class=\"artist\">Gareth Rhys</em>,\n",
       " <em class=\"artist\">Simona</em>,\n",
       " <em class=\"artist\">Michael Bublé</em>,\n",
       " <em class=\"artist\">Lizzy McAlpine</em>,\n",
       " <em class=\"artist\">Deborah de Luca</em>]"
      ]
     },
     "execution_count": 10,
     "metadata": {},
     "output_type": "execute_result"
    }
   ],
   "source": [
    "soup.select(\"p > em\")"
   ]
  },
  {
   "cell_type": "code",
   "execution_count": 11,
   "id": "fe65b452",
   "metadata": {},
   "outputs": [
    {
     "data": {
      "text/plain": [
       "'Adele'"
      ]
     },
     "execution_count": 11,
     "metadata": {},
     "output_type": "execute_result"
    }
   ],
   "source": [
    "soup.select(\"p > em\")[1].get_text()"
   ]
  },
  {
   "cell_type": "code",
   "execution_count": 12,
   "id": "b0553301",
   "metadata": {},
   "outputs": [
    {
     "name": "stdout",
     "output_type": "stream",
     "text": [
      "['Elton John & Dua Lipa', 'Adele', 'OG3NE', 'OG3NE', 'Acraze', 'MEAU', 'Adele', 'Rene Le Blanc', 'Ed Sheeran', 'Gino Graus', 'Ed Sheeran', 'Gabry Ponte, LUM!X & Prezioso', 'Swedish House Mafia & The Weeknd', 'Tiësto & Ava Max', 'Adele', 'Helemaal Hollands', 'Mart Hoogkamer', 'Farruko', 'Bolland & Bolland', 'Jan Biggel', 'FLEMMING', 'Jeffrey Heesen', 'P!nk & Willow Sage Hart', 'Danny Froger & Wesley Klein', 'Evert Van Huygevoort', 'Ed Sheeran', 'Gebroeders Ko', 'Justin Bieber', 'Adele', 'Eddie Vedder', 'Elephant', 'Mariah Carey', 'Michael Bublé', 'Snollebollekes', 'Andra Day', 'Bob Offenberg', 'Lawineboys', 'Rain Radio & DJ Craig Gorman', 'Coldplay X BTS', 'Lost Frequencies & Calum Scott', 'CKay', 'André Rieu, Mirusia Louwerse & Johann Strauss Orchestra', 'RONDÉ', 'Dermot Kennedy', 'Purple Disco Machine', 'Adele', 'Grits', 'Shouse & David Guetta', 'Rema', 'The Human League', 'Adele', 'Ofenbach & Ella Henderson', 'Dopebwoy', 'Adele', 'Shouse & David Guetta', 'Bilal Wahib', 'Kevin', 'Yade Lauren', 'Nona', 'John West & Zonzo Basily', \"Bear's Den\", 'Imagine Dragons, JID & League of Legends', 'Stefania', 'Airbag', 'Bolland & Bolland', 'Amsterdam Sinfonietta, Thomas Oliemans & Candida Thompson', 'De Dijk', 'Jah Cure', 'John West', 'De Dijk', 'Heather Nova', 'Franco Feruglio, Marco Decimo, Gabriele Baffero, Mauro Loguercio & Djivan Gasparyan', 'Heather Nova', 'Bilal Göregen', 'Arild Andersen, Vassilis Tsabropoulos & John Marshall', 'Heather Nova', 'De Dijk', 'De Dijk', 'De Dijk', 'Heather Nova', 'De Dijk', 'Heather Nova', 'Heather Nova', 'Cimorelli', 'Dame Joan Sutherland, Chorus of the Royal Opera House, Covent Garden, Richard Bonynge, Luciano Pavarotti, Orchestra of the Royal Opera House, Covent Garden & Spiro Malas', 'Clamavi De Profundis', 'ProSound Karaoke Band', 'Sleazy Stereo & Matjo & Morena', 'Violet Orlandi', 'Bernd van den Bos', 'Cimorelli', 'Dutchavelli', 'Tate McRae', 'SXTEEN & Issairo', 'Peter Doherty & Frédéric Lo', 'Gareth Rhys', 'Simona', 'Michael Bublé', 'Lizzy McAlpine', 'Deborah de Luca']\n"
     ]
    }
   ],
   "source": [
    "artist = []\n",
    "\n",
    "n_iter = len(soup.select(\"p > em\"))\n",
    "\n",
    "for i in range(n_iter):\n",
    "    artist.append(soup.select(\"p > em\")[i].get_text())\n",
    "\n",
    "print(artist)\n",
    "\n",
    "top100_artist = pd.DataFrame({\"artist\":artist})"
   ]
  },
  {
   "cell_type": "code",
   "execution_count": 14,
   "id": "a20738d5",
   "metadata": {},
   "outputs": [
    {
     "data": {
      "text/html": [
       "<div>\n",
       "<style scoped>\n",
       "    .dataframe tbody tr th:only-of-type {\n",
       "        vertical-align: middle;\n",
       "    }\n",
       "\n",
       "    .dataframe tbody tr th {\n",
       "        vertical-align: top;\n",
       "    }\n",
       "\n",
       "    .dataframe thead th {\n",
       "        text-align: right;\n",
       "    }\n",
       "</style>\n",
       "<table border=\"1\" class=\"dataframe\">\n",
       "  <thead>\n",
       "    <tr style=\"text-align: right;\">\n",
       "      <th></th>\n",
       "      <th>artist</th>\n",
       "      <th>song</th>\n",
       "    </tr>\n",
       "  </thead>\n",
       "  <tbody>\n",
       "    <tr>\n",
       "      <th>0</th>\n",
       "      <td>Elton John &amp; Dua Lipa</td>\n",
       "      <td>Cold Heart (PNAU Remix)</td>\n",
       "    </tr>\n",
       "    <tr>\n",
       "      <th>1</th>\n",
       "      <td>Adele</td>\n",
       "      <td>Easy On Me</td>\n",
       "    </tr>\n",
       "    <tr>\n",
       "      <th>2</th>\n",
       "      <td>OG3NE</td>\n",
       "      <td>Coming Home With Santa</td>\n",
       "    </tr>\n",
       "    <tr>\n",
       "      <th>3</th>\n",
       "      <td>OG3NE</td>\n",
       "      <td>Christmas On My Doorstep</td>\n",
       "    </tr>\n",
       "    <tr>\n",
       "      <th>4</th>\n",
       "      <td>Acraze</td>\n",
       "      <td>Do It To It (feat. Cherish)</td>\n",
       "    </tr>\n",
       "    <tr>\n",
       "      <th>...</th>\n",
       "      <td>...</td>\n",
       "      <td>...</td>\n",
       "    </tr>\n",
       "    <tr>\n",
       "      <th>95</th>\n",
       "      <td>Gareth Rhys</td>\n",
       "      <td>Christmas Time</td>\n",
       "    </tr>\n",
       "    <tr>\n",
       "      <th>96</th>\n",
       "      <td>Simona</td>\n",
       "      <td>Soft Skin and Silence</td>\n",
       "    </tr>\n",
       "    <tr>\n",
       "      <th>97</th>\n",
       "      <td>Michael Bublé</td>\n",
       "      <td>Jingle Bells (feat. The Puppini Sisters)</td>\n",
       "    </tr>\n",
       "    <tr>\n",
       "      <th>98</th>\n",
       "      <td>Lizzy McAlpine</td>\n",
       "      <td>erase me (feat. Jacob Collier)</td>\n",
       "    </tr>\n",
       "    <tr>\n",
       "      <th>99</th>\n",
       "      <td>Deborah de Luca</td>\n",
       "      <td>Squid</td>\n",
       "    </tr>\n",
       "  </tbody>\n",
       "</table>\n",
       "<p>100 rows × 2 columns</p>\n",
       "</div>"
      ],
      "text/plain": [
       "                   artist                                      song\n",
       "0   Elton John & Dua Lipa                   Cold Heart (PNAU Remix)\n",
       "1                   Adele                                Easy On Me\n",
       "2                   OG3NE                    Coming Home With Santa\n",
       "3                   OG3NE                  Christmas On My Doorstep\n",
       "4                  Acraze               Do It To It (feat. Cherish)\n",
       "..                    ...                                       ...\n",
       "95            Gareth Rhys                            Christmas Time\n",
       "96                 Simona                     Soft Skin and Silence\n",
       "97          Michael Bublé  Jingle Bells (feat. The Puppini Sisters)\n",
       "98         Lizzy McAlpine            erase me (feat. Jacob Collier)\n",
       "99        Deborah de Luca                                     Squid\n",
       "\n",
       "[100 rows x 2 columns]"
      ]
     },
     "execution_count": 14,
     "metadata": {},
     "output_type": "execute_result"
    }
   ],
   "source": [
    "top100_netherlands = pd.concat([top100_artist, top100_song], axis = 1)\n",
    "top100_netherlands"
   ]
  },
  {
   "cell_type": "markdown",
   "id": "bbb25f70",
   "metadata": {},
   "source": [
    "# LAB 6.02 Web Scraping Multiple Page"
   ]
  },
  {
   "cell_type": "code",
   "execution_count": 94,
   "id": "c92c9c86",
   "metadata": {},
   "outputs": [
    {
     "data": {
      "text/plain": [
       "'http://www.popvortex.com/music/charts/top-100-songs.php'"
      ]
     },
     "metadata": {},
     "output_type": "display_data"
    },
    {
     "data": {
      "text/plain": [
       "200"
      ]
     },
     "metadata": {},
     "output_type": "display_data"
    }
   ],
   "source": [
    "url = 'http://www.popvortex.com/music/charts/top-100-songs.php'\n",
    "\n",
    "response = requests.get(url)\n",
    "display(url,response.status_code)"
   ]
  },
  {
   "cell_type": "code",
   "execution_count": 95,
   "id": "7c900c08",
   "metadata": {},
   "outputs": [],
   "source": [
    "soup = BeautifulSoup(response.content, \"html.parser\")"
   ]
  },
  {
   "cell_type": "code",
   "execution_count": 96,
   "id": "a5b28d7f",
   "metadata": {
    "scrolled": true
   },
   "outputs": [
    {
     "data": {
      "text/html": [
       "<div>\n",
       "<style scoped>\n",
       "    .dataframe tbody tr th:only-of-type {\n",
       "        vertical-align: middle;\n",
       "    }\n",
       "\n",
       "    .dataframe tbody tr th {\n",
       "        vertical-align: top;\n",
       "    }\n",
       "\n",
       "    .dataframe thead th {\n",
       "        text-align: right;\n",
       "    }\n",
       "</style>\n",
       "<table border=\"1\" class=\"dataframe\">\n",
       "  <thead>\n",
       "    <tr style=\"text-align: right;\">\n",
       "      <th></th>\n",
       "      <th>artist</th>\n",
       "      <th>title</th>\n",
       "    </tr>\n",
       "  </thead>\n",
       "  <tbody>\n",
       "    <tr>\n",
       "      <th>0</th>\n",
       "      <td>Adele</td>\n",
       "      <td>Easy On Me</td>\n",
       "    </tr>\n",
       "    <tr>\n",
       "      <th>1</th>\n",
       "      <td>State of Mine &amp; Drew Jacobs</td>\n",
       "      <td>God's Country</td>\n",
       "    </tr>\n",
       "    <tr>\n",
       "      <th>2</th>\n",
       "      <td>Walker Hayes</td>\n",
       "      <td>Fancy Like</td>\n",
       "    </tr>\n",
       "    <tr>\n",
       "      <th>3</th>\n",
       "      <td>Kid Rock</td>\n",
       "      <td>Don't Tell Me How To Live (feat. Monster Truck)</td>\n",
       "    </tr>\n",
       "    <tr>\n",
       "      <th>4</th>\n",
       "      <td>Elton John &amp; Dua Lipa</td>\n",
       "      <td>Cold Heart (PNAU Remix)</td>\n",
       "    </tr>\n",
       "    <tr>\n",
       "      <th>5</th>\n",
       "      <td>Ed Sheeran</td>\n",
       "      <td>Shivers</td>\n",
       "    </tr>\n",
       "    <tr>\n",
       "      <th>6</th>\n",
       "      <td>Emmy Meli</td>\n",
       "      <td>I AM WOMAN</td>\n",
       "    </tr>\n",
       "    <tr>\n",
       "      <th>7</th>\n",
       "      <td>Jennifer Lopez</td>\n",
       "      <td>On My Way (Marry Me)</td>\n",
       "    </tr>\n",
       "    <tr>\n",
       "      <th>8</th>\n",
       "      <td>Walker Hayes</td>\n",
       "      <td>AA</td>\n",
       "    </tr>\n",
       "    <tr>\n",
       "      <th>9</th>\n",
       "      <td>Måneskin</td>\n",
       "      <td>Beggin</td>\n",
       "    </tr>\n",
       "    <tr>\n",
       "      <th>10</th>\n",
       "      <td>Shane Smith &amp; the Saints</td>\n",
       "      <td>All I See Is You</td>\n",
       "    </tr>\n",
       "    <tr>\n",
       "      <th>11</th>\n",
       "      <td>GAYLE</td>\n",
       "      <td>abcdefu</td>\n",
       "    </tr>\n",
       "    <tr>\n",
       "      <th>12</th>\n",
       "      <td>Girl Named Tom</td>\n",
       "      <td>Dust In The Wind (The Voice Performance)</td>\n",
       "    </tr>\n",
       "    <tr>\n",
       "      <th>13</th>\n",
       "      <td>Adele</td>\n",
       "      <td>I Drink Wine</td>\n",
       "    </tr>\n",
       "    <tr>\n",
       "      <th>14</th>\n",
       "      <td>Girl Named Tom</td>\n",
       "      <td>More Hearts Than Mine</td>\n",
       "    </tr>\n",
       "    <tr>\n",
       "      <th>15</th>\n",
       "      <td>Bruno Mars, Anderson .Paak &amp; Silk Sonic</td>\n",
       "      <td>Smokin Out The Window</td>\n",
       "    </tr>\n",
       "    <tr>\n",
       "      <th>16</th>\n",
       "      <td>Adele</td>\n",
       "      <td>To Be Loved</td>\n",
       "    </tr>\n",
       "    <tr>\n",
       "      <th>17</th>\n",
       "      <td>Jason Aldean &amp; Carrie Underwood</td>\n",
       "      <td>If I Didn't Love You</td>\n",
       "    </tr>\n",
       "    <tr>\n",
       "      <th>18</th>\n",
       "      <td>Post Malone &amp; The Weeknd</td>\n",
       "      <td>One Right Now</td>\n",
       "    </tr>\n",
       "    <tr>\n",
       "      <th>19</th>\n",
       "      <td>Tyson James</td>\n",
       "      <td>Rittenhouse</td>\n",
       "    </tr>\n",
       "    <tr>\n",
       "      <th>20</th>\n",
       "      <td>Adele</td>\n",
       "      <td>Hold On</td>\n",
       "    </tr>\n",
       "    <tr>\n",
       "      <th>21</th>\n",
       "      <td>Jimmie Allen &amp; Nelly</td>\n",
       "      <td>Good Times Roll</td>\n",
       "    </tr>\n",
       "    <tr>\n",
       "      <th>22</th>\n",
       "      <td>Luke Combs</td>\n",
       "      <td>Doin' This</td>\n",
       "    </tr>\n",
       "    <tr>\n",
       "      <th>23</th>\n",
       "      <td>THE ANXIETY, WILLOW &amp; Tyler Cole</td>\n",
       "      <td>Meet Me At Our Spot (Live)</td>\n",
       "    </tr>\n",
       "    <tr>\n",
       "      <th>24</th>\n",
       "      <td>Jordan Davis</td>\n",
       "      <td>Buy Dirt (feat. Luke Bryan)</td>\n",
       "    </tr>\n",
       "    <tr>\n",
       "      <th>25</th>\n",
       "      <td>Mariah Carey</td>\n",
       "      <td>All I Want For Christmas Is You</td>\n",
       "    </tr>\n",
       "    <tr>\n",
       "      <th>26</th>\n",
       "      <td>Jason Aldean</td>\n",
       "      <td>Heaven</td>\n",
       "    </tr>\n",
       "    <tr>\n",
       "      <th>27</th>\n",
       "      <td>Glass Animals</td>\n",
       "      <td>Heat Waves</td>\n",
       "    </tr>\n",
       "    <tr>\n",
       "      <th>28</th>\n",
       "      <td>Walker Hayes</td>\n",
       "      <td>U Gurl</td>\n",
       "    </tr>\n",
       "    <tr>\n",
       "      <th>29</th>\n",
       "      <td>Adele</td>\n",
       "      <td>Oh My God</td>\n",
       "    </tr>\n",
       "    <tr>\n",
       "      <th>30</th>\n",
       "      <td>Lil Nas X &amp; Jack Harlow</td>\n",
       "      <td>INDUSTRY BABY</td>\n",
       "    </tr>\n",
       "    <tr>\n",
       "      <th>31</th>\n",
       "      <td>Olivia Rodrigo</td>\n",
       "      <td>traitor</td>\n",
       "    </tr>\n",
       "    <tr>\n",
       "      <th>32</th>\n",
       "      <td>Robert Plant &amp; Alison Krauss</td>\n",
       "      <td>Can't Let Go</td>\n",
       "    </tr>\n",
       "    <tr>\n",
       "      <th>33</th>\n",
       "      <td>Adele</td>\n",
       "      <td>Hello</td>\n",
       "    </tr>\n",
       "    <tr>\n",
       "      <th>34</th>\n",
       "      <td>Coldplay X BTS</td>\n",
       "      <td>My Universe</td>\n",
       "    </tr>\n",
       "    <tr>\n",
       "      <th>35</th>\n",
       "      <td>Justin Bieber</td>\n",
       "      <td>Ghost</td>\n",
       "    </tr>\n",
       "    <tr>\n",
       "      <th>36</th>\n",
       "      <td>Chris Stapleton</td>\n",
       "      <td>You Should Probably Leave</td>\n",
       "    </tr>\n",
       "    <tr>\n",
       "      <th>37</th>\n",
       "      <td>Willie Nelson</td>\n",
       "      <td>Hands On the Wheel</td>\n",
       "    </tr>\n",
       "    <tr>\n",
       "      <th>38</th>\n",
       "      <td>Cody Johnson</td>\n",
       "      <td>'Til You Can't</td>\n",
       "    </tr>\n",
       "    <tr>\n",
       "      <th>39</th>\n",
       "      <td>Brenda Lee</td>\n",
       "      <td>Rockin' Around the Christmas Tree (Single)</td>\n",
       "    </tr>\n",
       "    <tr>\n",
       "      <th>40</th>\n",
       "      <td>Acraze</td>\n",
       "      <td>Do It To It (feat. Cherish)</td>\n",
       "    </tr>\n",
       "    <tr>\n",
       "      <th>41</th>\n",
       "      <td>Adele</td>\n",
       "      <td>Make You Feel My Love</td>\n",
       "    </tr>\n",
       "    <tr>\n",
       "      <th>42</th>\n",
       "      <td>Adele</td>\n",
       "      <td>Rolling in the Deep</td>\n",
       "    </tr>\n",
       "    <tr>\n",
       "      <th>43</th>\n",
       "      <td>BTS</td>\n",
       "      <td>Butter</td>\n",
       "    </tr>\n",
       "    <tr>\n",
       "      <th>44</th>\n",
       "      <td>Latto</td>\n",
       "      <td>Big Energy</td>\n",
       "    </tr>\n",
       "    <tr>\n",
       "      <th>45</th>\n",
       "      <td>Adele</td>\n",
       "      <td>Can I Get It</td>\n",
       "    </tr>\n",
       "    <tr>\n",
       "      <th>46</th>\n",
       "      <td>The Band McMillan</td>\n",
       "      <td>Somebody's Got To</td>\n",
       "    </tr>\n",
       "    <tr>\n",
       "      <th>47</th>\n",
       "      <td>Kane Brown</td>\n",
       "      <td>One Mississippi</td>\n",
       "    </tr>\n",
       "    <tr>\n",
       "      <th>48</th>\n",
       "      <td>Ed Sheeran</td>\n",
       "      <td>Bad Habits</td>\n",
       "    </tr>\n",
       "    <tr>\n",
       "      <th>49</th>\n",
       "      <td>Adele</td>\n",
       "      <td>Love Is A Game</td>\n",
       "    </tr>\n",
       "    <tr>\n",
       "      <th>50</th>\n",
       "      <td>Taylor Swift</td>\n",
       "      <td>Enchanted</td>\n",
       "    </tr>\n",
       "    <tr>\n",
       "      <th>51</th>\n",
       "      <td>Trans-Siberian Orchestra</td>\n",
       "      <td>Christmas / Sarajevo 12/24 (Instrumental)</td>\n",
       "    </tr>\n",
       "    <tr>\n",
       "      <th>52</th>\n",
       "      <td>Casting Crowns</td>\n",
       "      <td>Scars in Heaven</td>\n",
       "    </tr>\n",
       "    <tr>\n",
       "      <th>53</th>\n",
       "      <td>Chris Stapleton</td>\n",
       "      <td>Tennessee Whiskey</td>\n",
       "    </tr>\n",
       "    <tr>\n",
       "      <th>54</th>\n",
       "      <td>Taylor Swift</td>\n",
       "      <td>All Too Well (Sad Girl Autumn Version) [Record...</td>\n",
       "    </tr>\n",
       "    <tr>\n",
       "      <th>55</th>\n",
       "      <td>Morgan Wallen</td>\n",
       "      <td>Sand In My Boots</td>\n",
       "    </tr>\n",
       "    <tr>\n",
       "      <th>56</th>\n",
       "      <td>Cole Swindell &amp; Lainey Wilson</td>\n",
       "      <td>Never Say Never</td>\n",
       "    </tr>\n",
       "    <tr>\n",
       "      <th>57</th>\n",
       "      <td>Blake Shelton</td>\n",
       "      <td>Come Back As A Country Boy</td>\n",
       "    </tr>\n",
       "    <tr>\n",
       "      <th>58</th>\n",
       "      <td>Colter Wall</td>\n",
       "      <td>Sleeping on the Blacktop</td>\n",
       "    </tr>\n",
       "    <tr>\n",
       "      <th>59</th>\n",
       "      <td>Ryan Hurd &amp; Maren Morris</td>\n",
       "      <td>Chasing After You</td>\n",
       "    </tr>\n",
       "  </tbody>\n",
       "</table>\n",
       "</div>"
      ],
      "text/plain": [
       "                                     artist  \\\n",
       "0                                     Adele   \n",
       "1               State of Mine & Drew Jacobs   \n",
       "2                              Walker Hayes   \n",
       "3                                  Kid Rock   \n",
       "4                     Elton John & Dua Lipa   \n",
       "5                                Ed Sheeran   \n",
       "6                                 Emmy Meli   \n",
       "7                            Jennifer Lopez   \n",
       "8                              Walker Hayes   \n",
       "9                                  Måneskin   \n",
       "10                 Shane Smith & the Saints   \n",
       "11                                    GAYLE   \n",
       "12                           Girl Named Tom   \n",
       "13                                    Adele   \n",
       "14                           Girl Named Tom   \n",
       "15  Bruno Mars, Anderson .Paak & Silk Sonic   \n",
       "16                                    Adele   \n",
       "17          Jason Aldean & Carrie Underwood   \n",
       "18                 Post Malone & The Weeknd   \n",
       "19                              Tyson James   \n",
       "20                                    Adele   \n",
       "21                     Jimmie Allen & Nelly   \n",
       "22                               Luke Combs   \n",
       "23         THE ANXIETY, WILLOW & Tyler Cole   \n",
       "24                             Jordan Davis   \n",
       "25                             Mariah Carey   \n",
       "26                             Jason Aldean   \n",
       "27                            Glass Animals   \n",
       "28                             Walker Hayes   \n",
       "29                                    Adele   \n",
       "30                  Lil Nas X & Jack Harlow   \n",
       "31                           Olivia Rodrigo   \n",
       "32             Robert Plant & Alison Krauss   \n",
       "33                                    Adele   \n",
       "34                           Coldplay X BTS   \n",
       "35                            Justin Bieber   \n",
       "36                          Chris Stapleton   \n",
       "37                            Willie Nelson   \n",
       "38                             Cody Johnson   \n",
       "39                               Brenda Lee   \n",
       "40                                   Acraze   \n",
       "41                                    Adele   \n",
       "42                                    Adele   \n",
       "43                                      BTS   \n",
       "44                                    Latto   \n",
       "45                                    Adele   \n",
       "46                        The Band McMillan   \n",
       "47                               Kane Brown   \n",
       "48                               Ed Sheeran   \n",
       "49                                    Adele   \n",
       "50                             Taylor Swift   \n",
       "51                 Trans-Siberian Orchestra   \n",
       "52                           Casting Crowns   \n",
       "53                          Chris Stapleton   \n",
       "54                             Taylor Swift   \n",
       "55                            Morgan Wallen   \n",
       "56            Cole Swindell & Lainey Wilson   \n",
       "57                            Blake Shelton   \n",
       "58                              Colter Wall   \n",
       "59                 Ryan Hurd & Maren Morris   \n",
       "\n",
       "                                                title  \n",
       "0                                          Easy On Me  \n",
       "1                                       God's Country  \n",
       "2                                          Fancy Like  \n",
       "3     Don't Tell Me How To Live (feat. Monster Truck)  \n",
       "4                             Cold Heart (PNAU Remix)  \n",
       "5                                             Shivers  \n",
       "6                                          I AM WOMAN  \n",
       "7                                On My Way (Marry Me)  \n",
       "8                                                  AA  \n",
       "9                                              Beggin  \n",
       "10                                   All I See Is You  \n",
       "11                                            abcdefu  \n",
       "12           Dust In The Wind (The Voice Performance)  \n",
       "13                                       I Drink Wine  \n",
       "14                              More Hearts Than Mine  \n",
       "15                              Smokin Out The Window  \n",
       "16                                        To Be Loved  \n",
       "17                               If I Didn't Love You  \n",
       "18                                      One Right Now  \n",
       "19                                        Rittenhouse  \n",
       "20                                            Hold On  \n",
       "21                                    Good Times Roll  \n",
       "22                                         Doin' This  \n",
       "23                         Meet Me At Our Spot (Live)  \n",
       "24                        Buy Dirt (feat. Luke Bryan)  \n",
       "25                    All I Want For Christmas Is You  \n",
       "26                                             Heaven  \n",
       "27                                         Heat Waves  \n",
       "28                                             U Gurl  \n",
       "29                                          Oh My God  \n",
       "30                                      INDUSTRY BABY  \n",
       "31                                            traitor  \n",
       "32                                       Can't Let Go  \n",
       "33                                              Hello  \n",
       "34                                        My Universe  \n",
       "35                                              Ghost  \n",
       "36                          You Should Probably Leave  \n",
       "37                                 Hands On the Wheel  \n",
       "38                                     'Til You Can't  \n",
       "39         Rockin' Around the Christmas Tree (Single)  \n",
       "40                        Do It To It (feat. Cherish)  \n",
       "41                              Make You Feel My Love  \n",
       "42                                Rolling in the Deep  \n",
       "43                                             Butter  \n",
       "44                                         Big Energy  \n",
       "45                                       Can I Get It  \n",
       "46                                  Somebody's Got To  \n",
       "47                                    One Mississippi  \n",
       "48                                         Bad Habits  \n",
       "49                                     Love Is A Game  \n",
       "50                                          Enchanted  \n",
       "51          Christmas / Sarajevo 12/24 (Instrumental)  \n",
       "52                                    Scars in Heaven  \n",
       "53                                  Tennessee Whiskey  \n",
       "54  All Too Well (Sad Girl Autumn Version) [Record...  \n",
       "55                                   Sand In My Boots  \n",
       "56                                    Never Say Never  \n",
       "57                         Come Back As A Country Boy  \n",
       "58                           Sleeping on the Blacktop  \n",
       "59                                  Chasing After You  "
      ]
     },
     "execution_count": 96,
     "metadata": {},
     "output_type": "execute_result"
    }
   ],
   "source": [
    "titles = []\n",
    "for title in soup.select(\"cite.title\"):\n",
    "    titles.append(title.get_text())\n",
    "    \n",
    "artists = []\n",
    "for artist in soup.select(\"em.artist\"):\n",
    "    artists.append(artist.get_text())\n",
    "    \n",
    "top100_us = pd.DataFrame({'artist':artists,'title':titles})\n",
    "top100_us.head(60)"
   ]
  },
  {
   "cell_type": "code",
   "execution_count": 97,
   "id": "77a5bc5f",
   "metadata": {},
   "outputs": [],
   "source": [
    "# songs since 00s\n",
    "\n",
    "url2010 = 'http://tsort.info/music/ds2010.htm'\n",
    "url2000 = 'http://tsort.info/music/ds2000.htm'"
   ]
  },
  {
   "cell_type": "code",
   "execution_count": 98,
   "id": "679d1945",
   "metadata": {},
   "outputs": [
    {
     "data": {
      "text/plain": [
       "'http://tsort.info/music/ds2010.htm'"
      ]
     },
     "metadata": {},
     "output_type": "display_data"
    },
    {
     "data": {
      "text/plain": [
       "200"
      ]
     },
     "metadata": {},
     "output_type": "display_data"
    },
    {
     "data": {
      "text/plain": [
       "'http://tsort.info/music/ds2000.htm'"
      ]
     },
     "metadata": {},
     "output_type": "display_data"
    },
    {
     "data": {
      "text/plain": [
       "200"
      ]
     },
     "metadata": {},
     "output_type": "display_data"
    }
   ],
   "source": [
    "for url in [url2010, url2000]:\n",
    "    response = requests.get(url)\n",
    "    display(url,response.status_code)"
   ]
  },
  {
   "cell_type": "code",
   "execution_count": 99,
   "id": "312d8d9d",
   "metadata": {},
   "outputs": [],
   "source": [
    "soup2010 = BeautifulSoup(requests.get(url2010).content, \"html.parser\")\n",
    "soup2000 = BeautifulSoup(requests.get(url2000).content, \"html.parser\")"
   ]
  },
  {
   "cell_type": "code",
   "execution_count": 100,
   "id": "e91e1f1b",
   "metadata": {},
   "outputs": [],
   "source": [
    "artists = []\n",
    "titles = []\n",
    "years = []\n",
    "\n",
    "for artist in soup2000.select(\"td.art\"): #Artist\n",
    "    artists.append(artist.get_text())\n",
    "    \n",
    "for title in soup2000.select(\"td.tit\"): #Title\n",
    "    titles.append(title.get_text())\n",
    "    \n",
    "for year in soup2000.select(\"td.yer\"): #Year\n",
    "    years.append(year.get_text())\n",
    "\n",
    "year2000 = pd.DataFrame({'artist':artists, 'title':titles, 'year':years})"
   ]
  },
  {
   "cell_type": "code",
   "execution_count": 101,
   "id": "18f9521b",
   "metadata": {},
   "outputs": [],
   "source": [
    "artists = []\n",
    "titles = []\n",
    "years = []\n",
    "\n",
    "for artist in soup2010.select(\"td.art\"): #Artist\n",
    "    artists.append(artist.get_text())\n",
    "    \n",
    "for title in soup2010.select(\"td.tit\"): #Title\n",
    "    titles.append(title.get_text())\n",
    "    \n",
    "for year in soup2010.select(\"td.yer\"): #Year\n",
    "    years.append(year.get_text())\n",
    "\n",
    "year2010 = pd.DataFrame({'artist':artists, 'title':titles, 'year':years})"
   ]
  },
  {
   "cell_type": "code",
   "execution_count": 102,
   "id": "106de2f7",
   "metadata": {},
   "outputs": [
    {
     "data": {
      "text/html": [
       "<div>\n",
       "<style scoped>\n",
       "    .dataframe tbody tr th:only-of-type {\n",
       "        vertical-align: middle;\n",
       "    }\n",
       "\n",
       "    .dataframe tbody tr th {\n",
       "        vertical-align: top;\n",
       "    }\n",
       "\n",
       "    .dataframe thead th {\n",
       "        text-align: right;\n",
       "    }\n",
       "</style>\n",
       "<table border=\"1\" class=\"dataframe\">\n",
       "  <thead>\n",
       "    <tr style=\"text-align: right;\">\n",
       "      <th></th>\n",
       "      <th>artist</th>\n",
       "      <th>title</th>\n",
       "      <th>year</th>\n",
       "    </tr>\n",
       "  </thead>\n",
       "  <tbody>\n",
       "    <tr>\n",
       "      <th>0</th>\n",
       "      <td>Usher</td>\n",
       "      <td>Yeah!</td>\n",
       "      <td>2004</td>\n",
       "    </tr>\n",
       "    <tr>\n",
       "      <th>1</th>\n",
       "      <td>Lady GaGa</td>\n",
       "      <td>Poker Face</td>\n",
       "      <td>2009</td>\n",
       "    </tr>\n",
       "    <tr>\n",
       "      <th>2</th>\n",
       "      <td>Eminem</td>\n",
       "      <td>Lose Yourself</td>\n",
       "      <td>2002</td>\n",
       "    </tr>\n",
       "    <tr>\n",
       "      <th>3</th>\n",
       "      <td>Rihanna &amp; Jay-Z</td>\n",
       "      <td>Umbrella</td>\n",
       "      <td>2007</td>\n",
       "    </tr>\n",
       "    <tr>\n",
       "      <th>4</th>\n",
       "      <td>Leona Lewis</td>\n",
       "      <td>Bleeding Love</td>\n",
       "      <td>2008</td>\n",
       "    </tr>\n",
       "    <tr>\n",
       "      <th>...</th>\n",
       "      <td>...</td>\n",
       "      <td>...</td>\n",
       "      <td>...</td>\n",
       "    </tr>\n",
       "    <tr>\n",
       "      <th>95</th>\n",
       "      <td>David Guetta &amp; Usher</td>\n",
       "      <td>Without You</td>\n",
       "      <td>2011</td>\n",
       "    </tr>\n",
       "    <tr>\n",
       "      <th>96</th>\n",
       "      <td>Owl City &amp; Carly Rae Jepsen</td>\n",
       "      <td>Good Time</td>\n",
       "      <td>2012</td>\n",
       "    </tr>\n",
       "    <tr>\n",
       "      <th>97</th>\n",
       "      <td>Nelly</td>\n",
       "      <td>Just A Dream</td>\n",
       "      <td>2010</td>\n",
       "    </tr>\n",
       "    <tr>\n",
       "      <th>98</th>\n",
       "      <td>Usher</td>\n",
       "      <td>More</td>\n",
       "      <td>2011</td>\n",
       "    </tr>\n",
       "    <tr>\n",
       "      <th>99</th>\n",
       "      <td>Mark Ronson &amp; Bruno Mars</td>\n",
       "      <td>UPTOWN FUNK</td>\n",
       "      <td>2015</td>\n",
       "    </tr>\n",
       "  </tbody>\n",
       "</table>\n",
       "<p>200 rows × 3 columns</p>\n",
       "</div>"
      ],
      "text/plain": [
       "                         artist          title  year\n",
       "0                         Usher          Yeah!  2004\n",
       "1                     Lady GaGa     Poker Face  2009\n",
       "2                        Eminem  Lose Yourself  2002\n",
       "3               Rihanna & Jay-Z       Umbrella  2007\n",
       "4                   Leona Lewis  Bleeding Love  2008\n",
       "..                          ...            ...   ...\n",
       "95         David Guetta & Usher    Without You  2011\n",
       "96  Owl City & Carly Rae Jepsen      Good Time  2012\n",
       "97                        Nelly   Just A Dream  2010\n",
       "98                        Usher           More  2011\n",
       "99     Mark Ronson & Bruno Mars    UPTOWN FUNK  2015\n",
       "\n",
       "[200 rows x 3 columns]"
      ]
     },
     "execution_count": 102,
     "metadata": {},
     "output_type": "execute_result"
    }
   ],
   "source": [
    "top100_00s = pd.concat([year2000,year2010], axis = 0)\n",
    "top100_00s"
   ]
  },
  {
   "cell_type": "markdown",
   "id": "b99966e8",
   "metadata": {},
   "source": [
    "# Practices "
   ]
  },
  {
   "cell_type": "markdown",
   "id": "15fcdaf5",
   "metadata": {},
   "source": [
    "## Language"
   ]
  },
  {
   "cell_type": "code",
   "execution_count": 63,
   "id": "0ba50023",
   "metadata": {},
   "outputs": [
    {
     "data": {
      "text/plain": [
       "200"
      ]
     },
     "execution_count": 63,
     "metadata": {},
     "output_type": "execute_result"
    }
   ],
   "source": [
    "# Display the top 10 languages by number of native speakers stored in a pandas dataframe\n",
    "\n",
    "l_url = 'https://en.wikipedia.org/wiki/List_of_languages_by_number_of_native_speakers'\n",
    "\n",
    "l_response = requests.get(l_url)\n",
    "l_response.status_code"
   ]
  },
  {
   "cell_type": "code",
   "execution_count": 64,
   "id": "c6051d5b",
   "metadata": {},
   "outputs": [],
   "source": [
    "#mw-content-text > div.mw-parser-output > table:nth-child(15) > tbody > tr:nth-child(1) > td:nth-child(2)\n",
    "\n",
    "l_soup = BeautifulSoup(l_response.content, \"html.parser\")"
   ]
  },
  {
   "cell_type": "code",
   "execution_count": 92,
   "id": "11b05076",
   "metadata": {
    "scrolled": true
   },
   "outputs": [],
   "source": [
    "speakers = l_soup.select(\"table.wikitable > tbody > tr > td\")"
   ]
  },
  {
   "cell_type": "code",
   "execution_count": 93,
   "id": "87a17bbf",
   "metadata": {},
   "outputs": [
    {
     "ename": "TypeError",
     "evalue": "unhashable type: 'slice'",
     "output_type": "error",
     "traceback": [
      "\u001b[1;31m---------------------------------------------------------------------------\u001b[0m",
      "\u001b[1;31mTypeError\u001b[0m                                 Traceback (most recent call last)",
      "\u001b[1;32m<ipython-input-93-9e63ccbc7c24>\u001b[0m in \u001b[0;36m<module>\u001b[1;34m\u001b[0m\n\u001b[0;32m      9\u001b[0m \u001b[1;33m\u001b[0m\u001b[0m\n\u001b[0;32m     10\u001b[0m \u001b[1;32mwhile\u001b[0m \u001b[0mcount\u001b[0m \u001b[1;33m<\u001b[0m \u001b[1;36m100\u001b[0m\u001b[1;33m:\u001b[0m\u001b[1;33m\u001b[0m\u001b[1;33m\u001b[0m\u001b[0m\n\u001b[1;32m---> 11\u001b[1;33m     \u001b[0mrank\u001b[0m\u001b[1;33m.\u001b[0m\u001b[0mappend\u001b[0m\u001b[1;33m(\u001b[0m\u001b[0mspeakers\u001b[0m\u001b[1;33m[\u001b[0m\u001b[0mcount\u001b[0m\u001b[1;33m]\u001b[0m\u001b[1;33m[\u001b[0m\u001b[1;33m:\u001b[0m\u001b[1;33m-\u001b[0m\u001b[1;36m1\u001b[0m\u001b[1;33m]\u001b[0m\u001b[1;33m)\u001b[0m\u001b[1;33m\u001b[0m\u001b[1;33m\u001b[0m\u001b[0m\n\u001b[0m\u001b[0;32m     12\u001b[0m     \u001b[0mcount\u001b[0m \u001b[1;33m=\u001b[0m \u001b[0mcount\u001b[0m \u001b[1;33m+\u001b[0m \u001b[1;36m1\u001b[0m\u001b[1;33m\u001b[0m\u001b[1;33m\u001b[0m\u001b[0m\n\u001b[0;32m     13\u001b[0m     \u001b[0mlang\u001b[0m\u001b[1;33m.\u001b[0m\u001b[0mappend\u001b[0m\u001b[1;33m(\u001b[0m\u001b[0mspeakers\u001b[0m\u001b[1;33m[\u001b[0m\u001b[0mcount\u001b[0m\u001b[1;33m]\u001b[0m\u001b[1;33m[\u001b[0m\u001b[1;33m:\u001b[0m\u001b[1;33m-\u001b[0m\u001b[1;36m1\u001b[0m\u001b[1;33m]\u001b[0m\u001b[1;33m)\u001b[0m\u001b[1;33m\u001b[0m\u001b[1;33m\u001b[0m\u001b[0m\n",
      "\u001b[1;32m~\\anaconda3\\lib\\site-packages\\bs4\\element.py\u001b[0m in \u001b[0;36m__getitem__\u001b[1;34m(self, key)\u001b[0m\n\u001b[0;32m   1404\u001b[0m         \"\"\"tag[key] returns the value of the 'key' attribute for the Tag,\n\u001b[0;32m   1405\u001b[0m         and throws an exception if it's not there.\"\"\"\n\u001b[1;32m-> 1406\u001b[1;33m         \u001b[1;32mreturn\u001b[0m \u001b[0mself\u001b[0m\u001b[1;33m.\u001b[0m\u001b[0mattrs\u001b[0m\u001b[1;33m[\u001b[0m\u001b[0mkey\u001b[0m\u001b[1;33m]\u001b[0m\u001b[1;33m\u001b[0m\u001b[1;33m\u001b[0m\u001b[0m\n\u001b[0m\u001b[0;32m   1407\u001b[0m \u001b[1;33m\u001b[0m\u001b[0m\n\u001b[0;32m   1408\u001b[0m     \u001b[1;32mdef\u001b[0m \u001b[0m__iter__\u001b[0m\u001b[1;33m(\u001b[0m\u001b[0mself\u001b[0m\u001b[1;33m)\u001b[0m\u001b[1;33m:\u001b[0m\u001b[1;33m\u001b[0m\u001b[1;33m\u001b[0m\u001b[0m\n",
      "\u001b[1;31mTypeError\u001b[0m: unhashable type: 'slice'"
     ]
    }
   ],
   "source": [
    "count = 0\n",
    "\n",
    "rank= []\n",
    "lang = []\n",
    "speak = []\n",
    "percent = []\n",
    "family = []\n",
    "branch = []\n",
    "\n",
    "while count < 100:\n",
    "    rank.append(speakers[count][:-1])\n",
    "    count = count + 1\n",
    "    lang.append(speakers[count][:-1])\n",
    "    count = count + 1\n",
    "    speak.append(speakers[count][:-1])\n",
    "    count = count + 1\n",
    "    percent.append(speakers[count][:-1])\n",
    "    count = count + 1\n",
    "    family.append(speakers[count][:-1])\n",
    "    count = count + 1\n",
    "    branch.append(speakers[count][:-1])\n",
    "    count = count + 1\n"
   ]
  },
  {
   "cell_type": "code",
   "execution_count": 89,
   "id": "ed0a1d7b",
   "metadata": {
    "scrolled": true
   },
   "outputs": [
    {
     "name": "stdout",
     "output_type": "stream",
     "text": [
      "['Mandarin Chinese\\n', 'Spanish\\n', 'English\\n', 'Hindi (sanskritised Hindustani)[9]\\n', 'Bengali\\n', 'Portuguese\\n', 'Russian\\n', 'Japanese\\n', 'Western Punjabi[10]\\n', 'Marathi\\n']\n"
     ]
    }
   ],
   "source": [
    "Language = []\n",
    "\n",
    "l_iter = len(l_soup.select(\"td:nth-child(2)\"))\n",
    "\n",
    "for i in range(1, 11):\n",
    "    Language.append(l_soup.select(\"td:nth-child(2)\")[i].get_text())\n",
    "\n",
    "print(Language)\n",
    "\n",
    "l_name = pd.DataFrame({\"language\":Language})"
   ]
  },
  {
   "cell_type": "code",
   "execution_count": 90,
   "id": "fef3ddb2",
   "metadata": {},
   "outputs": [
    {
     "data": {
      "text/html": [
       "<div>\n",
       "<style scoped>\n",
       "    .dataframe tbody tr th:only-of-type {\n",
       "        vertical-align: middle;\n",
       "    }\n",
       "\n",
       "    .dataframe tbody tr th {\n",
       "        vertical-align: top;\n",
       "    }\n",
       "\n",
       "    .dataframe thead th {\n",
       "        text-align: right;\n",
       "    }\n",
       "</style>\n",
       "<table border=\"1\" class=\"dataframe\">\n",
       "  <thead>\n",
       "    <tr style=\"text-align: right;\">\n",
       "      <th></th>\n",
       "      <th>language</th>\n",
       "    </tr>\n",
       "  </thead>\n",
       "  <tbody>\n",
       "    <tr>\n",
       "      <th>0</th>\n",
       "      <td>Mandarin Chinese\\n</td>\n",
       "    </tr>\n",
       "    <tr>\n",
       "      <th>1</th>\n",
       "      <td>Spanish\\n</td>\n",
       "    </tr>\n",
       "    <tr>\n",
       "      <th>2</th>\n",
       "      <td>English\\n</td>\n",
       "    </tr>\n",
       "    <tr>\n",
       "      <th>3</th>\n",
       "      <td>Hindi (sanskritised Hindustani)[9]\\n</td>\n",
       "    </tr>\n",
       "    <tr>\n",
       "      <th>4</th>\n",
       "      <td>Bengali\\n</td>\n",
       "    </tr>\n",
       "    <tr>\n",
       "      <th>5</th>\n",
       "      <td>Portuguese\\n</td>\n",
       "    </tr>\n",
       "    <tr>\n",
       "      <th>6</th>\n",
       "      <td>Russian\\n</td>\n",
       "    </tr>\n",
       "    <tr>\n",
       "      <th>7</th>\n",
       "      <td>Japanese\\n</td>\n",
       "    </tr>\n",
       "    <tr>\n",
       "      <th>8</th>\n",
       "      <td>Western Punjabi[10]\\n</td>\n",
       "    </tr>\n",
       "    <tr>\n",
       "      <th>9</th>\n",
       "      <td>Marathi\\n</td>\n",
       "    </tr>\n",
       "  </tbody>\n",
       "</table>\n",
       "</div>"
      ],
      "text/plain": [
       "                               language\n",
       "0                    Mandarin Chinese\\n\n",
       "1                             Spanish\\n\n",
       "2                             English\\n\n",
       "3  Hindi (sanskritised Hindustani)[9]\\n\n",
       "4                             Bengali\\n\n",
       "5                          Portuguese\\n\n",
       "6                             Russian\\n\n",
       "7                            Japanese\\n\n",
       "8                 Western Punjabi[10]\\n\n",
       "9                             Marathi\\n"
      ]
     },
     "execution_count": 90,
     "metadata": {},
     "output_type": "execute_result"
    }
   ],
   "source": [
    "l_name"
   ]
  },
  {
   "cell_type": "code",
   "execution_count": null,
   "id": "d06218bf",
   "metadata": {},
   "outputs": [],
   "source": [
    "#mw-content-text > div.mw-parser-output > table:nth-child(15) > tbody > tr:nth-child(1) > td:nth-child(3)"
   ]
  },
  {
   "cell_type": "code",
   "execution_count": 103,
   "id": "c5e7d05e",
   "metadata": {},
   "outputs": [],
   "source": [
    "#l_soup.select(\"td:nth-child(3)\")"
   ]
  },
  {
   "cell_type": "code",
   "execution_count": 87,
   "id": "ad8607c1",
   "metadata": {},
   "outputs": [
    {
     "name": "stdout",
     "output_type": "stream",
     "text": [
      "[]\n"
     ]
    }
   ],
   "source": [
    "year = []\n",
    "\n",
    "l_iter = len(l_soup.select(\"td:nth-child(3)\"))\n",
    "\n",
    "for i in range(0, 10):\n",
    "    Language.append(l_soup.select(\"td:nth-child(3)\")[i].get_text())\n",
    "\n",
    "print(year)\n",
    "\n",
    "l_year = pd.DataFrame({\"year\":year})"
   ]
  },
  {
   "cell_type": "code",
   "execution_count": null,
   "id": "5aa384d5",
   "metadata": {},
   "outputs": [],
   "source": [
    "#mw-content-text > div.mw-parser-output > table:nth-child(15) > tbody > tr:nth-child(1) > td:nth-child(2)"
   ]
  },
  {
   "cell_type": "markdown",
   "id": "5f552231",
   "metadata": {},
   "source": [
    "# FBI "
   ]
  },
  {
   "cell_type": "code",
   "execution_count": 104,
   "id": "5578b0d6",
   "metadata": {},
   "outputs": [
    {
     "data": {
      "text/plain": [
       "200"
      ]
     },
     "execution_count": 104,
     "metadata": {},
     "output_type": "execute_result"
    }
   ],
   "source": [
    "url = 'https://www.fbi.gov/wanted/topten'\n",
    "response = requests.get(url)\n",
    "response.status_code "
   ]
  },
  {
   "cell_type": "code",
   "execution_count": 105,
   "id": "684d826b",
   "metadata": {},
   "outputs": [],
   "source": [
    "soup = BeautifulSoup(response.content, \"html.parser\")"
   ]
  },
  {
   "cell_type": "code",
   "execution_count": 108,
   "id": "19160e03",
   "metadata": {},
   "outputs": [
    {
     "data": {
      "text/plain": [
       "['RAFAEL CARO-QUINTERO',\n",
       " 'YULAN ADONAY ARCHAGA CARIAS',\n",
       " 'EUGENE PALMER',\n",
       " 'BHADRESHKUMAR CHETANBHAI PATEL',\n",
       " 'ALEJANDRO ROSALES CASTILLO',\n",
       " 'ARNOLDO JIMENEZ',\n",
       " 'JASON DEREK BROWN',\n",
       " 'ALEXIS FLORES',\n",
       " 'JOSE RODOLFO VILLARREAL-HERNANDEZ',\n",
       " 'OCTAVIANO JUAREZ-CORRO']"
      ]
     },
     "execution_count": 108,
     "metadata": {},
     "output_type": "execute_result"
    }
   ],
   "source": [
    "wanted = []\n",
    "for dude in soup.select(\"h3\"):\n",
    "    wanted.append(dude.get_text().strip())\n",
    "\n",
    "wanted.pop(10)\n",
    "wanted.pop(10)\n",
    "wanted"
   ]
  },
  {
   "cell_type": "code",
   "execution_count": 111,
   "id": "2e4e48df",
   "metadata": {},
   "outputs": [
    {
     "data": {
      "text/html": [
       "<div>\n",
       "<style scoped>\n",
       "    .dataframe tbody tr th:only-of-type {\n",
       "        vertical-align: middle;\n",
       "    }\n",
       "\n",
       "    .dataframe tbody tr th {\n",
       "        vertical-align: top;\n",
       "    }\n",
       "\n",
       "    .dataframe thead th {\n",
       "        text-align: right;\n",
       "    }\n",
       "</style>\n",
       "<table border=\"1\" class=\"dataframe\">\n",
       "  <thead>\n",
       "    <tr style=\"text-align: right;\">\n",
       "      <th></th>\n",
       "      <th>Names</th>\n",
       "    </tr>\n",
       "  </thead>\n",
       "  <tbody>\n",
       "    <tr>\n",
       "      <th>0</th>\n",
       "      <td>RAFAEL CARO-QUINTERO</td>\n",
       "    </tr>\n",
       "    <tr>\n",
       "      <th>1</th>\n",
       "      <td>YULAN ADONAY ARCHAGA CARIAS</td>\n",
       "    </tr>\n",
       "    <tr>\n",
       "      <th>2</th>\n",
       "      <td>EUGENE PALMER</td>\n",
       "    </tr>\n",
       "    <tr>\n",
       "      <th>3</th>\n",
       "      <td>BHADRESHKUMAR CHETANBHAI PATEL</td>\n",
       "    </tr>\n",
       "    <tr>\n",
       "      <th>4</th>\n",
       "      <td>ALEJANDRO ROSALES CASTILLO</td>\n",
       "    </tr>\n",
       "    <tr>\n",
       "      <th>5</th>\n",
       "      <td>ARNOLDO JIMENEZ</td>\n",
       "    </tr>\n",
       "    <tr>\n",
       "      <th>6</th>\n",
       "      <td>JASON DEREK BROWN</td>\n",
       "    </tr>\n",
       "    <tr>\n",
       "      <th>7</th>\n",
       "      <td>ALEXIS FLORES</td>\n",
       "    </tr>\n",
       "    <tr>\n",
       "      <th>8</th>\n",
       "      <td>JOSE RODOLFO VILLARREAL-HERNANDEZ</td>\n",
       "    </tr>\n",
       "    <tr>\n",
       "      <th>9</th>\n",
       "      <td>OCTAVIANO JUAREZ-CORRO</td>\n",
       "    </tr>\n",
       "  </tbody>\n",
       "</table>\n",
       "</div>"
      ],
      "text/plain": [
       "                               Names\n",
       "0               RAFAEL CARO-QUINTERO\n",
       "1        YULAN ADONAY ARCHAGA CARIAS\n",
       "2                      EUGENE PALMER\n",
       "3     BHADRESHKUMAR CHETANBHAI PATEL\n",
       "4         ALEJANDRO ROSALES CASTILLO\n",
       "5                    ARNOLDO JIMENEZ\n",
       "6                  JASON DEREK BROWN\n",
       "7                      ALEXIS FLORES\n",
       "8  JOSE RODOLFO VILLARREAL-HERNANDEZ\n",
       "9             OCTAVIANO JUAREZ-CORRO"
      ]
     },
     "execution_count": 111,
     "metadata": {},
     "output_type": "execute_result"
    }
   ],
   "source": [
    "wanted_fbi = pd.DataFrame({'Names':wanted})\n",
    "wanted_fbi"
   ]
  },
  {
   "cell_type": "code",
   "execution_count": null,
   "id": "a4d9d567",
   "metadata": {},
   "outputs": [],
   "source": []
  }
 ],
 "metadata": {
  "kernelspec": {
   "display_name": "Python 3",
   "language": "python",
   "name": "python3"
  },
  "language_info": {
   "codemirror_mode": {
    "name": "ipython",
    "version": 3
   },
   "file_extension": ".py",
   "mimetype": "text/x-python",
   "name": "python",
   "nbconvert_exporter": "python",
   "pygments_lexer": "ipython3",
   "version": "3.8.8"
  }
 },
 "nbformat": 4,
 "nbformat_minor": 5
}
